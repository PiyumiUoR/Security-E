{
 "cells": [
  {
   "cell_type": "markdown",
   "id": "a611b256",
   "metadata": {},
   "source": [
    "# Creating your own fuzzer and fuzzing with it\n",
    "\n",
    "---\n",
    "\n",
    "**Student name:**  Nipun Waas\n",
    "\n",
    "**Student number:** 2305414\n",
    "\n",
    "---\n",
    "\n",
    "This task has four sub-parts:\n",
    "\n",
    "A) Designing a mutator that takes a valid URL as input and creates its mutations\n",
    "\n",
    "B) Designing a target URL validator program and fuzz test it with mutations generated in task 1.\n",
    "\n",
    "C) Creating a fuzzer\n",
    "\n",
    "D) Generating mutations with Radamsa and observing program execution\n",
    "\n",
    "#### A) Designing a mutator that takes valid url and creates mutations"
   ]
  },
  {
   "cell_type": "code",
   "execution_count": 28,
   "id": "c51ea48c",
   "metadata": {},
   "outputs": [],
   "source": [
    "# Creating the mutator\n",
    "import uuid\n",
    "import random\n",
    "import string\n",
    "\n",
    "''' Generating a single random string with a given length '''\n",
    "def generate_random_single_string(stringLenth, onlyAscii = False):\n",
    "    stringList = list(string.printable[:-5])\n",
    "    if onlyAscii:\n",
    "        stringList = stringList[:62]\n",
    "    return ''.join(random.choice(stringList) for i in range(stringLenth))\n",
    "\n",
    "''' \n",
    "Creating a random mutation for a given string. \n",
    "This includes\n",
    "    1. Replacing character.\n",
    "    2. Adding new characters in between or SOS or EOS.\n",
    "    3. Generating a new string\n",
    "'''\n",
    "def generate_random_string(objectString, onlyAscii = False):\n",
    "    generativeMutatedStringLength = 5\n",
    "    mutationAction = random.randint(0, 2)\n",
    "    stringList = list(string.printable[:-5])\n",
    "    \n",
    "    if onlyAscii:\n",
    "        stringList = stringList[:62]\n",
    "    # replacement\n",
    "    if mutationAction == 0:\n",
    "        randomIterStart = random.randint(0, len(objectString)-1)\n",
    "        randomIterEnd = random.randint(randomIterStart, len(objectString)-1)\n",
    "        for i in range(randomIterStart, randomIterEnd):\n",
    "            objectString.replace(objectString[i], random.choice(stringList))\n",
    "    # adding new characters\n",
    "    elif mutationAction ==  1:\n",
    "        randomIter = random.randint(0, len(objectString)-1)\n",
    "        objectString = objectString[:randomIter] + ''.join(random.choice(stringList) for i in range(random.randint(0, generativeMutatedStringLength))) + objectString[randomIter:]\n",
    "#     # create a new string\n",
    "    elif mutationAction == 2:\n",
    "        randomLength = random.randint(0, len(objectString) + generativeMutatedStringLength)\n",
    "        objectString = generate_random_single_string(randomLength)\n",
    "    return objectString\n",
    "\n",
    "# Mutator function that takes a validated URL and creates random mutated URLs\n",
    "def mutator(baseUrl):\n",
    "    mutated_URL = \"\"\n",
    "    # spliting the url by '/' and filtering out the white spaces\n",
    "    splittedUrl = list(filter(lambda x: len(x) > 0, baseUrl.strip().split(\"/\")))\n",
    "\n",
    "    #scheme - choosing a random scheme from the given choices\n",
    "    scheme = [\"ftp://\", \"http://\", \"https://\"]\n",
    "    mutated_URL += random.choice(scheme)\n",
    "    \n",
    "    #netloc - creating a netloc with www. address and a generative host name\n",
    "    netloc = \"www.\" + generate_random_string(splittedUrl[1].split(\".\")[1])+ \".\" + generate_random_single_string(random.randint(2,4))\n",
    "    mutated_URL += netloc\n",
    "    \n",
    "    #path - generate random path strings for each in the given url\n",
    "    path = '/'.join([generate_random_string(i, True) for i in splittedUrl[2:-1]])\n",
    "    mutated_URL += \"/\" + path + \"/\"\n",
    "    \n",
    "    # query\n",
    "    querySplitted = splittedUrl[-1].split(\"?\")\n",
    "    mutated_URL += generate_random_single_string(len(querySplitted[0]), True) + \"/\"\n",
    "    if len(querySplitted) > 1:\n",
    "        queries = querySplitted[-1].split(\"=\")\n",
    "        for i in queries:\n",
    "            mutated_URL += generate_random_single_string(len(i), True) + \"=\"\n",
    "    mutated_URL = mutated_URL[:-1]\n",
    "    return mutated_URL"
   ]
  },
  {
   "cell_type": "markdown",
   "id": "2b8f7a94",
   "metadata": {},
   "source": [
    "Running the mutator for 4 minutes and observes the results."
   ]
  },
  {
   "cell_type": "code",
   "execution_count": 30,
   "id": "8f0b5d29",
   "metadata": {},
   "outputs": [
    {
     "name": "stdout",
     "output_type": "stream",
     "text": [
      "Generated input count: 15894875\n",
      "Generated 20 samples: \n",
      "ftp://www..Z~/{_BI/Qyey/j7ZZqJ/B=NmwAO4K\n",
      "ftp://www.=.?U`/h2qDade/yVJt1ey/1tHROG/Z=3f5pZDc\n",
      "http://www.google.#xLX/he/yejDsUy/1kliRv/M=fANnaJE\n",
      "http://www.google.)8Nr/mW3he/tj|)@/lH5gEQ/i=fxOfxwu\n",
      "http://www.google.u[/a/yey/3xjl8l/b=RznpPLb\n",
      "http://www._k\\Cqgo0}.Xh/^e/yey/5ZiqeI/x=NfJrnxK\n",
      "http://www.googl|e.&4 !/he/Dr1yey/xR9J26/5=Te1jcnT\n",
      "ftp://www.google.qlx/hne/yey/gnG11e/f=EnRPrMd\n",
      "http://www.P1Y.{24/he/dE0\\0^8/3vnYeD/O=FP0SXwn\n",
      "http://www.google.f>I/ydOUhe/yey/XdbKsI/i=6IlyIho\n",
      "ftp://www.google.uF_/.+k5/yey/2NGh7J/n=9vTjLWJ\n",
      "https://www.google.!_/he/ye8fK78y/DeDAVu/A=oD6pICg\n",
      "ftp://www.mnF>1[.sY+/he/yey/AnRROG/a=Jhimv54\n",
      "ftp://www.vcBt5<~OK_B.MYm/>+C[`u$/yeXAgoLy/rjt82y/L=Eqj0KVB\n",
      "ftp://www.0<|<x#-.'u/he/m/KQHndV/A=j1c7YK6\n",
      "https://www.google.S*/5Wdhe/yey/TyTaAw/l=rZ1veIc\n",
      "ftp://www.H,.&d?Q/he/yey/Kf0QIa/7=DQYwzbt\n",
      "http://www.google.oV6/hrQMle/W/ZnkPks/u=bIR6YPM\n",
      "http://www.go.ogle.r_A&/he/yej7WFoy/nYh63I/3=854FrGL\n",
      "http://www.g*ZqD=oogle.4O8z/s{/yHHey/96KwHD/L=Z2qiaJ3\n"
     ]
    }
   ],
   "source": [
    "import time\n",
    "'''\n",
    "Running the mutator for 4 minutes\n",
    "'''\n",
    "\n",
    "t_end = time.time() + 60 * 4\n",
    "mutatedInputCount = 0\n",
    "mutated20Samples = []\n",
    "while time.time() < t_end:\n",
    "    if mutatedInputCount < 20: mutated20Samples.append(mutator(\"http://www.google.com/he/yey/search?q=fuzzing\"))\n",
    "    else: mutator(\"http://www.google.com/he/yey/search?q=fuzzing\")\n",
    "    mutatedInputCount += 1\n",
    "print(\"Generated input count: \" + str(mutatedInputCount))\n",
    "print(\"Generated 20 samples: \\n\" + \"\\n\".join(mutated20Samples))"
   ]
  },
  {
   "cell_type": "markdown",
   "id": "fae800b7",
   "metadata": {},
   "source": [
    "#### B) Designing a target URL validator program and fuzz test it with mutations generated in task 1.\n",
    "\n",
    "using ```validators``` library to validate the generated URL"
   ]
  },
  {
   "cell_type": "code",
   "execution_count": 6,
   "id": "b890c079",
   "metadata": {},
   "outputs": [],
   "source": [
    "import validators\n",
    "\n",
    "def validator(url):\n",
    "    validated = validators.url(url)\n",
    "    if validated:\n",
    "        return True\n",
    "    return False"
   ]
  },
  {
   "cell_type": "markdown",
   "id": "d99b1618",
   "metadata": {},
   "source": [
    "Testing the validator by providing the above 20 samples to check the program."
   ]
  },
  {
   "cell_type": "code",
   "execution_count": 32,
   "id": "f52875ef",
   "metadata": {},
   "outputs": [
    {
     "name": "stdout",
     "output_type": "stream",
     "text": [
      "Crashed url:  ftp://www..Z~/{_BI/Qyey/j7ZZqJ/B=NmwAO4K\n",
      "Crashed url:  ftp://www.=.?U`/h2qDade/yVJt1ey/1tHROG/Z=3f5pZDc\n",
      "Crashed url:  http://www.google.#xLX/he/yejDsUy/1kliRv/M=fANnaJE\n",
      "Crashed url:  http://www.google.)8Nr/mW3he/tj|)@/lH5gEQ/i=fxOfxwu\n",
      "Crashed url:  http://www.google.u[/a/yey/3xjl8l/b=RznpPLb\n",
      "Crashed url:  http://www._k\\Cqgo0}.Xh/^e/yey/5ZiqeI/x=NfJrnxK\n",
      "Crashed url:  http://www.googl|e.&4 !/he/Dr1yey/xR9J26/5=Te1jcnT\n",
      "Successful url:  ftp://www.google.qlx/hne/yey/gnG11e/f=EnRPrMd\n",
      "Crashed url:  http://www.P1Y.{24/he/dE0\\0^8/3vnYeD/O=FP0SXwn\n",
      "Crashed url:  http://www.google.f>I/ydOUhe/yey/XdbKsI/i=6IlyIho\n",
      "Crashed url:  ftp://www.google.uF_/.+k5/yey/2NGh7J/n=9vTjLWJ\n",
      "Crashed url:  https://www.google.!_/he/ye8fK78y/DeDAVu/A=oD6pICg\n",
      "Crashed url:  ftp://www.mnF>1[.sY+/he/yey/AnRROG/a=Jhimv54\n",
      "Crashed url:  ftp://www.vcBt5<~OK_B.MYm/>+C[`u$/yeXAgoLy/rjt82y/L=Eqj0KVB\n",
      "Crashed url:  ftp://www.0<|<x#-.'u/he/m/KQHndV/A=j1c7YK6\n",
      "Crashed url:  https://www.google.S*/5Wdhe/yey/TyTaAw/l=rZ1veIc\n",
      "Crashed url:  ftp://www.H,.&d?Q/he/yey/Kf0QIa/7=DQYwzbt\n",
      "Crashed url:  http://www.google.oV6/hrQMle/W/ZnkPks/u=bIR6YPM\n",
      "Crashed url:  http://www.go.ogle.r_A&/he/yej7WFoy/nYh63I/3=854FrGL\n",
      "Crashed url:  http://www.g*ZqD=oogle.4O8z/s{/yHHey/96KwHD/L=Z2qiaJ3\n"
     ]
    }
   ],
   "source": [
    "crashedCount = 0\n",
    "crashedUrls = []\n",
    "\n",
    "for url in mutated20Samples:\n",
    "    if validator(url) :\n",
    "        print(\"Successful url: \", url)\n",
    "    else:\n",
    "        print(\"Crashed url: \", url)"
   ]
  },
  {
   "cell_type": "markdown",
   "id": "97db1104",
   "metadata": {},
   "source": [
    "#### C) Creating a fuzzer\n",
    "\n",
    "Here the fuzzer uses the previously created mutator and the validator to perform mutations on the validator(targeted program)"
   ]
  },
  {
   "cell_type": "code",
   "execution_count": 7,
   "id": "970979ff",
   "metadata": {},
   "outputs": [
    {
     "name": "stdout",
     "output_type": "stream",
     "text": [
      "Test Case: 100 Crashed count: 88\n",
      "Test Case: 1000 Crashed count: 880\n",
      "Test Case: 10000 Crashed count: 8873\n"
     ]
    }
   ],
   "source": [
    "import os\n",
    "\n",
    "hostname = \"http://www.google.com/he/yey/search?q=fuzzing\"\n",
    "crashedUrlsForCases = {}\n",
    "crashedCountsForCases = {}\n",
    "\n",
    "for testCasesCount in [100, 1000, 10000]:\n",
    "    mutatedUrls = [mutator(hostname) for i in range(testCasesCount)]\n",
    "\n",
    "    crashedCount = 0\n",
    "    crashedUrls = []\n",
    "\n",
    "    for url in mutatedUrls:\n",
    "        if validator(url) == False:\n",
    "            crashedCount+=1\n",
    "            crashedUrls.append(url)\n",
    "            \n",
    "    crashedUrlsForCases[testCasesCount] = crashedUrls\n",
    "    crashedCountsForCases[testCasesCount] = crashedCount\n",
    "    print(\"Test Case: \" + str(testCasesCount) + \" Crashed count: \" + str(crashedCount))"
   ]
  },
  {
   "cell_type": "markdown",
   "id": "b90468db",
   "metadata": {},
   "source": [
    "Some samples of the crashed inputs"
   ]
  },
  {
   "cell_type": "code",
   "execution_count": 38,
   "id": "76c5b233",
   "metadata": {},
   "outputs": [
    {
     "name": "stdout",
     "output_type": "stream",
     "text": [
      "Crashed URLs for test case: 100\n",
      "ftp://www.googl^M?_e.U[`*/hG2xGe/yey/6OQoYz/m=YHTAHSb\n",
      "ftp://www.google.i'_F/)U/FX/2Cadoz/E=DGKDJ9x\n",
      "https://www.gook4@&:gle.Q*(f/d[~n/GbVEyey/wbmlgR/d=L5c2Uqc\n",
      "http://www.Fl&U{2-fn.?=|R/ohe/yrTLey/VRtWiB/K=ODIDvQZ\n",
      "ftp://www.U}!/:Ea|_`.bz/he/54clyey/s3YThV/a=ijslPbB\n",
      "Crashed URLs for test case: 1000\n",
      "https://www.a'GD~J~ >.\"Z/0fqRhe/yey/gBihxu/8=Zk7Torz\n",
      "https://www.ogoogle.z--/$:!%u/yey/TOZOLD/E=K0Z3wVm\n",
      "http://www.Z.\\zY//yey/kdwasd/D=AbSwwnk\n",
      "ftp://www.YSX%kRK.qP/2Xhe/yey/W4pnDk/y=mhW9SQu\n",
      "https://www.googlde.G>/$>G2/yey/TYO9Ty/n=2YRTGHB\n",
      "Crashed URLs for test case: 10000\n",
      "ftp://www..v.r^bg/he/yey/FQAMXj/6=PCBYJTL\n",
      "ftp://www.googXRu`Qle.qEX/he//s1KCxv/w=AAgaGeO\n",
      "http://www.go4G~yiogle.Zs/8ZFOEhe/yey/OiSlmM/E=CZPBdgJ\n",
      "https://www.google.Qqx=/hT7ZmEe/ynlp1ey/J6XSRR/8=apTPFsS\n",
      "http://www.google.0\"/he/->/4meMk9/U=9YgeCKr\n"
     ]
    }
   ],
   "source": [
    "for key in crashedUrlsForCases.keys():\n",
    "    print(\"Crashed URLs for test case: \" + str(key) + \"\\n\" + \"\\n\".join(crashedUrlsForCases[key][:5]))"
   ]
  },
  {
   "cell_type": "markdown",
   "id": "099de0e2",
   "metadata": {},
   "source": [
    "### D) Generating mutations with Radamsa and observing program execution\n",
    "Here the fuzzer reads a text file that cnotains malformed inputs that are generated using radamsa. it will execute against the validator and look for the crashs."
   ]
  },
  {
   "cell_type": "code",
   "execution_count": 43,
   "id": "c5289783",
   "metadata": {},
   "outputs": [
    {
     "name": "stdout",
     "output_type": "stream",
     "text": [
      "Test Case: 100 Crashed count: 7\n",
      "Test Case: 1000 Crashed count: 594\n",
      "Test Case: 10000 Crashed count: 6887\n"
     ]
    }
   ],
   "source": [
    "import os\n",
    "\n",
    "decodedCount = 0\n",
    "crashes = 0\n",
    "crashedUrls = []\n",
    "successUrls = []\n",
    "\n",
    "testCases = [100, 1000, 10000]\n",
    "\n",
    "with open(\"output.txt\", \"rb\") as f:\n",
    "    lines = f.readlines()\n",
    "    for i, line in enumerate(lines):\n",
    "        try:\n",
    "            decodedMutation = line.decode('utf-8')\n",
    "        except:\n",
    "            continue\n",
    "        validatedUrl = validator(decodedMutation[:-1])\n",
    "        if validatedUrl == False:\n",
    "            crashedUrls.append(decodedMutation)\n",
    "            crashes += 1\n",
    "        else:\n",
    "            successUrls.append(decodedMutation)\n",
    "        if decodedCount in testCases:\n",
    "            testCases.remove(decodedCount)\n",
    "            print(\"Test Case: \" + str(decodedCount) + \" Crashed count: \" + str(crashes))\n",
    "            decodedCount = 0\n",
    "            if len(testCases) == 0:\n",
    "                break\n",
    "            continue\n",
    "        decodedCount += 1\n",
    "               "
   ]
  },
  {
   "cell_type": "markdown",
   "id": "74b3742e",
   "metadata": {},
   "source": [
    "Few successfully invoked urls and crashed urls"
   ]
  },
  {
   "cell_type": "code",
   "execution_count": 50,
   "id": "c5a24887",
   "metadata": {},
   "outputs": [
    {
     "name": "stdout",
     "output_type": "stream",
     "text": [
      "Successfull Urls: http://www.google.com/search?q=fuzzing\n",
      "\n",
      "Successfull Urls: http://www.google.com/search?q=fuzziom/search?q=fuzziom/search?q=fuzziom/search?q=fuzziom/search?q=fuzziom/search?q=fuzziom/search?q=fuzziom/search?q=fuzziom/search?q=fuzziom/search?q=fuzziom/search?q=fuzziom/search?q=fuzziom/search?q=fuzziom/search?q=fuzziom/search?q=fuzziom/search?q=fuzziom/search?q=fuzziom/search?q=fuzziom/search?q=fuzziom/search?q=fuzziom/search?q=fuzziom/search?q=fuzziom/search?q=fuzziom/search?q=fuzziom/search?q=fuzziom/search?q=fuzziom/search?q=fuzziom/search?q=fuzziom/search?q=fuzziom/search?q=fuzziom/search?q=fuzziom/search?q=fuzziom/search?q=fuzziom/search?q=fuzziom/search?q=fuzziom/search?q=fuzziom/search?q=fuzziom/search?q=fuzziom/search?q=fuzziom/search?q=fuzzing\n",
      "\n",
      "Successfull Urls: http://www.google.com/rearchf?q=uzzinww.google.com/rearchf?q=uzzing\n",
      "\n",
      "Successfull Urls: http://www.google.com/search?q=fuzzing\n",
      "\n",
      "Successfull Urls: http://www.google.com/search?q=fuzzing\n",
      "\n",
      "Successfull Urls: http://www.google.com/search?q=fuzzing\n",
      "\n",
      "Successfull Urls: http://www.google.com/search?q=fuzzing\n",
      "\n",
      "Successfull Urls: http://www.google.com/search?q=fuzzing\n",
      "\n",
      "Successfull Urls: http://www.google.com/search?q=fuzzing\n",
      "\n",
      "Successfull Urls: http://www.google.com/search?q=fuzzing\n",
      "\n"
     ]
    }
   ],
   "source": [
    "for i in successUrls[:10]:\n",
    "    print(\"Successfull Urls: \"+ i)"
   ]
  },
  {
   "cell_type": "code",
   "execution_count": 51,
   "id": "63123f08",
   "metadata": {},
   "outputs": [
    {
     "name": "stdout",
     "output_type": "stream",
     "text": [
      "Crashed Urls: g\n",
      "\n",
      "Crashed Urls: ?q=fuzzinffoogle.cohttp://www.google.com/search?q=fuzzinh\n",
      "\n",
      "Crashed Urls: http://www.goo󠁻gle.com/search?q=fuzzing\n",
      "\n",
      "Crashed Urls: http:󠁞//www.google.c󠁂mtsearch?q=fuzzing\n",
      "\n",
      "Crashed Urls: http://󠀮w󠁥ww.google.com.s‪earc?q󠀸=󠁿fuzzing\n",
      "\n",
      "Crashed Urls: http://www.google.com/searc󠁋h?q=fuzzing\n",
      "\n",
      "Crashed Urls: http://www.google.co󠁼m/search?q=fuzzing\n",
      "\n",
      "Crashed Urls: http://www.googl󠁊e.com/search?q=fuzzing\n",
      "\n",
      "Crashed Urls: hutp󠁏://www.google.com/search?q=fuzzing\n",
      "\n",
      "Crashed Urls: http://www.google.com/rearch?q=\u001c\n",
      "uzzing\n",
      "\n"
     ]
    }
   ],
   "source": [
    "for i in crashedUrls[:10]:\n",
    "    print(\"Crashed Urls: \"+ i)"
   ]
  }
 ],
 "metadata": {
  "kernelspec": {
   "display_name": "Python 3 (ipykernel)",
   "language": "python",
   "name": "python3"
  },
  "language_info": {
   "codemirror_mode": {
    "name": "ipython",
    "version": 3
   },
   "file_extension": ".py",
   "mimetype": "text/x-python",
   "name": "python",
   "nbconvert_exporter": "python",
   "pygments_lexer": "ipython3",
   "version": "3.11.4"
  }
 },
 "nbformat": 4,
 "nbformat_minor": 5
}
